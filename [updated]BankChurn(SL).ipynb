{
 "cells": [
  {
   "cell_type": "markdown",
   "metadata": {},
   "source": [
    "# Predicting Customer Churn for Beta Bank\n",
    "\n",
    "Beta Bank has observed a gradual increase in customer churn, which is eroding its customer base over time. To address this issue, the bank aims to predict which customers are likely to leave soon.\n",
    "\n",
    "In this project, we will develop a predictive model using historical data on customer behavior and contract terminations. The goal is to identify customers at risk of churn, enabling Beta Bank to take preemptive action.\n",
    "\n",
    "**This project will involve the following:**\n",
    "- Data Preparation and Exploration: We will load the dataset, clean the data, and engineer features to ensure all variables are suitable for modeling.\n",
    "- Class Balance Examination: We will analyze the distribution of the target variable and train an initial model without addressing class imbalance.\n",
    "- Model Improvement: We will explore various techniques to handle class imbalance, including resampling and algorithmic adjustments, and train multiple models to identify the best performer.\n",
    "- Final Testing: The chosen model will be evaluated on a test set, and its performance will be compared using F1 and AUC-ROC scores."
   ]
  },
  {
   "cell_type": "markdown",
   "metadata": {},
   "source": [
    "### Data Preparation and Exploration\n",
    "#### Loading the dataset and performing an initial inspection to understand its structure and content."
   ]
  },
  {
   "cell_type": "code",
   "execution_count": 1,
   "metadata": {},
   "outputs": [
    {
     "name": "stdout",
     "output_type": "stream",
     "text": [
      "Dataset size (rows, columns): (10000, 14)\n",
      "\n",
      "First five rows of the dataset:\n"
     ]
    },
    {
     "data": {
      "text/html": [
       "<div>\n",
       "<style scoped>\n",
       "    .dataframe tbody tr th:only-of-type {\n",
       "        vertical-align: middle;\n",
       "    }\n",
       "\n",
       "    .dataframe tbody tr th {\n",
       "        vertical-align: top;\n",
       "    }\n",
       "\n",
       "    .dataframe thead th {\n",
       "        text-align: right;\n",
       "    }\n",
       "</style>\n",
       "<table border=\"1\" class=\"dataframe\">\n",
       "  <thead>\n",
       "    <tr style=\"text-align: right;\">\n",
       "      <th></th>\n",
       "      <th>RowNumber</th>\n",
       "      <th>CustomerId</th>\n",
       "      <th>Surname</th>\n",
       "      <th>CreditScore</th>\n",
       "      <th>Geography</th>\n",
       "      <th>Gender</th>\n",
       "      <th>Age</th>\n",
       "      <th>Tenure</th>\n",
       "      <th>Balance</th>\n",
       "      <th>NumOfProducts</th>\n",
       "      <th>HasCrCard</th>\n",
       "      <th>IsActiveMember</th>\n",
       "      <th>EstimatedSalary</th>\n",
       "      <th>Exited</th>\n",
       "    </tr>\n",
       "  </thead>\n",
       "  <tbody>\n",
       "    <tr>\n",
       "      <th>0</th>\n",
       "      <td>1</td>\n",
       "      <td>15634602</td>\n",
       "      <td>Hargrave</td>\n",
       "      <td>619</td>\n",
       "      <td>France</td>\n",
       "      <td>Female</td>\n",
       "      <td>42</td>\n",
       "      <td>2.0</td>\n",
       "      <td>0.00</td>\n",
       "      <td>1</td>\n",
       "      <td>1</td>\n",
       "      <td>1</td>\n",
       "      <td>101348.88</td>\n",
       "      <td>1</td>\n",
       "    </tr>\n",
       "    <tr>\n",
       "      <th>1</th>\n",
       "      <td>2</td>\n",
       "      <td>15647311</td>\n",
       "      <td>Hill</td>\n",
       "      <td>608</td>\n",
       "      <td>Spain</td>\n",
       "      <td>Female</td>\n",
       "      <td>41</td>\n",
       "      <td>1.0</td>\n",
       "      <td>83807.86</td>\n",
       "      <td>1</td>\n",
       "      <td>0</td>\n",
       "      <td>1</td>\n",
       "      <td>112542.58</td>\n",
       "      <td>0</td>\n",
       "    </tr>\n",
       "    <tr>\n",
       "      <th>2</th>\n",
       "      <td>3</td>\n",
       "      <td>15619304</td>\n",
       "      <td>Onio</td>\n",
       "      <td>502</td>\n",
       "      <td>France</td>\n",
       "      <td>Female</td>\n",
       "      <td>42</td>\n",
       "      <td>8.0</td>\n",
       "      <td>159660.80</td>\n",
       "      <td>3</td>\n",
       "      <td>1</td>\n",
       "      <td>0</td>\n",
       "      <td>113931.57</td>\n",
       "      <td>1</td>\n",
       "    </tr>\n",
       "    <tr>\n",
       "      <th>3</th>\n",
       "      <td>4</td>\n",
       "      <td>15701354</td>\n",
       "      <td>Boni</td>\n",
       "      <td>699</td>\n",
       "      <td>France</td>\n",
       "      <td>Female</td>\n",
       "      <td>39</td>\n",
       "      <td>1.0</td>\n",
       "      <td>0.00</td>\n",
       "      <td>2</td>\n",
       "      <td>0</td>\n",
       "      <td>0</td>\n",
       "      <td>93826.63</td>\n",
       "      <td>0</td>\n",
       "    </tr>\n",
       "    <tr>\n",
       "      <th>4</th>\n",
       "      <td>5</td>\n",
       "      <td>15737888</td>\n",
       "      <td>Mitchell</td>\n",
       "      <td>850</td>\n",
       "      <td>Spain</td>\n",
       "      <td>Female</td>\n",
       "      <td>43</td>\n",
       "      <td>2.0</td>\n",
       "      <td>125510.82</td>\n",
       "      <td>1</td>\n",
       "      <td>1</td>\n",
       "      <td>1</td>\n",
       "      <td>79084.10</td>\n",
       "      <td>0</td>\n",
       "    </tr>\n",
       "  </tbody>\n",
       "</table>\n",
       "</div>"
      ],
      "text/plain": [
       "   RowNumber  CustomerId   Surname  CreditScore Geography  Gender  Age  \\\n",
       "0          1    15634602  Hargrave          619    France  Female   42   \n",
       "1          2    15647311      Hill          608     Spain  Female   41   \n",
       "2          3    15619304      Onio          502    France  Female   42   \n",
       "3          4    15701354      Boni          699    France  Female   39   \n",
       "4          5    15737888  Mitchell          850     Spain  Female   43   \n",
       "\n",
       "   Tenure    Balance  NumOfProducts  HasCrCard  IsActiveMember  \\\n",
       "0     2.0       0.00              1          1               1   \n",
       "1     1.0   83807.86              1          0               1   \n",
       "2     8.0  159660.80              3          1               0   \n",
       "3     1.0       0.00              2          0               0   \n",
       "4     2.0  125510.82              1          1               1   \n",
       "\n",
       "   EstimatedSalary  Exited  \n",
       "0        101348.88       1  \n",
       "1        112542.58       0  \n",
       "2        113931.57       1  \n",
       "3         93826.63       0  \n",
       "4         79084.10       0  "
      ]
     },
     "metadata": {},
     "output_type": "display_data"
    },
    {
     "name": "stdout",
     "output_type": "stream",
     "text": [
      "\n",
      "Data types and missing values:\n",
      "<class 'pandas.core.frame.DataFrame'>\n",
      "RangeIndex: 10000 entries, 0 to 9999\n",
      "Data columns (total 14 columns):\n",
      " #   Column           Non-Null Count  Dtype  \n",
      "---  ------           --------------  -----  \n",
      " 0   RowNumber        10000 non-null  int64  \n",
      " 1   CustomerId       10000 non-null  int64  \n",
      " 2   Surname          10000 non-null  object \n",
      " 3   CreditScore      10000 non-null  int64  \n",
      " 4   Geography        10000 non-null  object \n",
      " 5   Gender           10000 non-null  object \n",
      " 6   Age              10000 non-null  int64  \n",
      " 7   Tenure           9091 non-null   float64\n",
      " 8   Balance          10000 non-null  float64\n",
      " 9   NumOfProducts    10000 non-null  int64  \n",
      " 10  HasCrCard        10000 non-null  int64  \n",
      " 11  IsActiveMember   10000 non-null  int64  \n",
      " 12  EstimatedSalary  10000 non-null  float64\n",
      " 13  Exited           10000 non-null  int64  \n",
      "dtypes: float64(3), int64(8), object(3)\n",
      "memory usage: 1.1+ MB\n"
     ]
    },
    {
     "data": {
      "text/plain": [
       "None"
      ]
     },
     "metadata": {},
     "output_type": "display_data"
    },
    {
     "name": "stdout",
     "output_type": "stream",
     "text": [
      "\n",
      "Missing values in each column:\n"
     ]
    },
    {
     "data": {
      "text/plain": [
       "RowNumber            0\n",
       "CustomerId           0\n",
       "Surname              0\n",
       "CreditScore          0\n",
       "Geography            0\n",
       "Gender               0\n",
       "Age                  0\n",
       "Tenure             909\n",
       "Balance              0\n",
       "NumOfProducts        0\n",
       "HasCrCard            0\n",
       "IsActiveMember       0\n",
       "EstimatedSalary      0\n",
       "Exited               0\n",
       "dtype: int64"
      ]
     },
     "metadata": {},
     "output_type": "display_data"
    }
   ],
   "source": [
    "import pandas as pd\n",
    "from sklearn.model_selection import train_test_split\n",
    "from sklearn.linear_model import LogisticRegression\n",
    "from sklearn.ensemble import RandomForestClassifier\n",
    "from sklearn.metrics import f1_score, roc_auc_score\n",
    "from sklearn.preprocessing import StandardScaler\n",
    "from sklearn.utils import resample\n",
    "\n",
    "# Load the dataset\n",
    "data = pd.read_csv('/datasets/Churn.csv')\n",
    "\n",
    "# Display the size of the dataset\n",
    "print(\"Dataset size (rows, columns):\", data.shape)\n",
    "\n",
    "# Display the first few rows of the dataset\n",
    "print(\"\\nFirst five rows of the dataset:\")\n",
    "display(data.head())\n",
    "\n",
    "# Display data types and null values\n",
    "print(\"\\nData types and missing values:\")\n",
    "display(data.info())\n",
    "\n",
    "# Check for missing values\n",
    "print(\"\\nMissing values in each column:\")\n",
    "display(data.isnull().sum())"
   ]
  },
  {
   "cell_type": "markdown",
   "metadata": {},
   "source": [
    "#### Next: Data Preprocessing\n",
    "Preparing the dataset for building predictive models. \n",
    "\n",
    "- Dropping Irrelevant Columns: RowNumber, CustomerId, and Surname do not contribute to predicting churn and are removed.\n",
    "- Handling Missing Values: Missing values in Tenure are filled with the median to maintain data consistency.\n",
    "- Encoding Categorical Features: One-Hot Encoding is applied to Geography and Gender, and the dummy variable trap is avoided by using drop_first=True.\n",
    "- Standardizing Numerical Features: Standardization transforms the data to have a mean of 0 and a standard deviation of 1, which is crucial for algorithms sensitive to feature scales."
   ]
  },
  {
   "cell_type": "code",
   "execution_count": 2,
   "metadata": {},
   "outputs": [
    {
     "name": "stdout",
     "output_type": "stream",
     "text": [
      "Processed data preview:\n"
     ]
    },
    {
     "data": {
      "text/html": [
       "<div>\n",
       "<style scoped>\n",
       "    .dataframe tbody tr th:only-of-type {\n",
       "        vertical-align: middle;\n",
       "    }\n",
       "\n",
       "    .dataframe tbody tr th {\n",
       "        vertical-align: top;\n",
       "    }\n",
       "\n",
       "    .dataframe thead th {\n",
       "        text-align: right;\n",
       "    }\n",
       "</style>\n",
       "<table border=\"1\" class=\"dataframe\">\n",
       "  <thead>\n",
       "    <tr style=\"text-align: right;\">\n",
       "      <th></th>\n",
       "      <th>CreditScore</th>\n",
       "      <th>Age</th>\n",
       "      <th>Tenure</th>\n",
       "      <th>Balance</th>\n",
       "      <th>NumOfProducts</th>\n",
       "      <th>HasCrCard</th>\n",
       "      <th>IsActiveMember</th>\n",
       "      <th>EstimatedSalary</th>\n",
       "      <th>Exited</th>\n",
       "      <th>Geography_Germany</th>\n",
       "      <th>Geography_Spain</th>\n",
       "      <th>Gender_Male</th>\n",
       "    </tr>\n",
       "  </thead>\n",
       "  <tbody>\n",
       "    <tr>\n",
       "      <th>0</th>\n",
       "      <td>619</td>\n",
       "      <td>42</td>\n",
       "      <td>2.0</td>\n",
       "      <td>0.00</td>\n",
       "      <td>1</td>\n",
       "      <td>1</td>\n",
       "      <td>1</td>\n",
       "      <td>101348.88</td>\n",
       "      <td>1</td>\n",
       "      <td>0</td>\n",
       "      <td>0</td>\n",
       "      <td>0</td>\n",
       "    </tr>\n",
       "    <tr>\n",
       "      <th>1</th>\n",
       "      <td>608</td>\n",
       "      <td>41</td>\n",
       "      <td>1.0</td>\n",
       "      <td>83807.86</td>\n",
       "      <td>1</td>\n",
       "      <td>0</td>\n",
       "      <td>1</td>\n",
       "      <td>112542.58</td>\n",
       "      <td>0</td>\n",
       "      <td>0</td>\n",
       "      <td>1</td>\n",
       "      <td>0</td>\n",
       "    </tr>\n",
       "    <tr>\n",
       "      <th>2</th>\n",
       "      <td>502</td>\n",
       "      <td>42</td>\n",
       "      <td>8.0</td>\n",
       "      <td>159660.80</td>\n",
       "      <td>3</td>\n",
       "      <td>1</td>\n",
       "      <td>0</td>\n",
       "      <td>113931.57</td>\n",
       "      <td>1</td>\n",
       "      <td>0</td>\n",
       "      <td>0</td>\n",
       "      <td>0</td>\n",
       "    </tr>\n",
       "    <tr>\n",
       "      <th>3</th>\n",
       "      <td>699</td>\n",
       "      <td>39</td>\n",
       "      <td>1.0</td>\n",
       "      <td>0.00</td>\n",
       "      <td>2</td>\n",
       "      <td>0</td>\n",
       "      <td>0</td>\n",
       "      <td>93826.63</td>\n",
       "      <td>0</td>\n",
       "      <td>0</td>\n",
       "      <td>0</td>\n",
       "      <td>0</td>\n",
       "    </tr>\n",
       "    <tr>\n",
       "      <th>4</th>\n",
       "      <td>850</td>\n",
       "      <td>43</td>\n",
       "      <td>2.0</td>\n",
       "      <td>125510.82</td>\n",
       "      <td>1</td>\n",
       "      <td>1</td>\n",
       "      <td>1</td>\n",
       "      <td>79084.10</td>\n",
       "      <td>0</td>\n",
       "      <td>0</td>\n",
       "      <td>1</td>\n",
       "      <td>0</td>\n",
       "    </tr>\n",
       "  </tbody>\n",
       "</table>\n",
       "</div>"
      ],
      "text/plain": [
       "   CreditScore  Age  Tenure    Balance  NumOfProducts  HasCrCard  \\\n",
       "0          619   42     2.0       0.00              1          1   \n",
       "1          608   41     1.0   83807.86              1          0   \n",
       "2          502   42     8.0  159660.80              3          1   \n",
       "3          699   39     1.0       0.00              2          0   \n",
       "4          850   43     2.0  125510.82              1          1   \n",
       "\n",
       "   IsActiveMember  EstimatedSalary  Exited  Geography_Germany  \\\n",
       "0               1        101348.88       1                  0   \n",
       "1               1        112542.58       0                  0   \n",
       "2               0        113931.57       1                  0   \n",
       "3               0         93826.63       0                  0   \n",
       "4               1         79084.10       0                  0   \n",
       "\n",
       "   Geography_Spain  Gender_Male  \n",
       "0                0            0  \n",
       "1                1            0  \n",
       "2                0            0  \n",
       "3                0            0  \n",
       "4                1            0  "
      ]
     },
     "metadata": {},
     "output_type": "display_data"
    },
    {
     "name": "stdout",
     "output_type": "stream",
     "text": [
      "\n",
      "Standardized data preview:\n"
     ]
    },
    {
     "data": {
      "text/html": [
       "<div>\n",
       "<style scoped>\n",
       "    .dataframe tbody tr th:only-of-type {\n",
       "        vertical-align: middle;\n",
       "    }\n",
       "\n",
       "    .dataframe tbody tr th {\n",
       "        vertical-align: top;\n",
       "    }\n",
       "\n",
       "    .dataframe thead th {\n",
       "        text-align: right;\n",
       "    }\n",
       "</style>\n",
       "<table border=\"1\" class=\"dataframe\">\n",
       "  <thead>\n",
       "    <tr style=\"text-align: right;\">\n",
       "      <th></th>\n",
       "      <th>CreditScore</th>\n",
       "      <th>Age</th>\n",
       "      <th>Tenure</th>\n",
       "      <th>Balance</th>\n",
       "      <th>NumOfProducts</th>\n",
       "      <th>HasCrCard</th>\n",
       "      <th>IsActiveMember</th>\n",
       "      <th>EstimatedSalary</th>\n",
       "      <th>Exited</th>\n",
       "      <th>Geography_Germany</th>\n",
       "      <th>Geography_Spain</th>\n",
       "      <th>Gender_Male</th>\n",
       "    </tr>\n",
       "  </thead>\n",
       "  <tbody>\n",
       "    <tr>\n",
       "      <th>0</th>\n",
       "      <td>-0.326221</td>\n",
       "      <td>0.293517</td>\n",
       "      <td>-1.086246</td>\n",
       "      <td>-1.225848</td>\n",
       "      <td>-0.911583</td>\n",
       "      <td>0.646092</td>\n",
       "      <td>0.970243</td>\n",
       "      <td>0.021886</td>\n",
       "      <td>1</td>\n",
       "      <td>0</td>\n",
       "      <td>0</td>\n",
       "      <td>0</td>\n",
       "    </tr>\n",
       "    <tr>\n",
       "      <th>1</th>\n",
       "      <td>-0.440036</td>\n",
       "      <td>0.198164</td>\n",
       "      <td>-1.448581</td>\n",
       "      <td>0.117350</td>\n",
       "      <td>-0.911583</td>\n",
       "      <td>-1.547768</td>\n",
       "      <td>0.970243</td>\n",
       "      <td>0.216534</td>\n",
       "      <td>0</td>\n",
       "      <td>0</td>\n",
       "      <td>1</td>\n",
       "      <td>0</td>\n",
       "    </tr>\n",
       "    <tr>\n",
       "      <th>2</th>\n",
       "      <td>-1.536794</td>\n",
       "      <td>0.293517</td>\n",
       "      <td>1.087768</td>\n",
       "      <td>1.333053</td>\n",
       "      <td>2.527057</td>\n",
       "      <td>0.646092</td>\n",
       "      <td>-1.030670</td>\n",
       "      <td>0.240687</td>\n",
       "      <td>1</td>\n",
       "      <td>0</td>\n",
       "      <td>0</td>\n",
       "      <td>0</td>\n",
       "    </tr>\n",
       "    <tr>\n",
       "      <th>3</th>\n",
       "      <td>0.501521</td>\n",
       "      <td>0.007457</td>\n",
       "      <td>-1.448581</td>\n",
       "      <td>-1.225848</td>\n",
       "      <td>0.807737</td>\n",
       "      <td>-1.547768</td>\n",
       "      <td>-1.030670</td>\n",
       "      <td>-0.108918</td>\n",
       "      <td>0</td>\n",
       "      <td>0</td>\n",
       "      <td>0</td>\n",
       "      <td>0</td>\n",
       "    </tr>\n",
       "    <tr>\n",
       "      <th>4</th>\n",
       "      <td>2.063884</td>\n",
       "      <td>0.388871</td>\n",
       "      <td>-1.086246</td>\n",
       "      <td>0.785728</td>\n",
       "      <td>-0.911583</td>\n",
       "      <td>0.646092</td>\n",
       "      <td>0.970243</td>\n",
       "      <td>-0.365276</td>\n",
       "      <td>0</td>\n",
       "      <td>0</td>\n",
       "      <td>1</td>\n",
       "      <td>0</td>\n",
       "    </tr>\n",
       "  </tbody>\n",
       "</table>\n",
       "</div>"
      ],
      "text/plain": [
       "   CreditScore       Age    Tenure   Balance  NumOfProducts  HasCrCard  \\\n",
       "0    -0.326221  0.293517 -1.086246 -1.225848      -0.911583   0.646092   \n",
       "1    -0.440036  0.198164 -1.448581  0.117350      -0.911583  -1.547768   \n",
       "2    -1.536794  0.293517  1.087768  1.333053       2.527057   0.646092   \n",
       "3     0.501521  0.007457 -1.448581 -1.225848       0.807737  -1.547768   \n",
       "4     2.063884  0.388871 -1.086246  0.785728      -0.911583   0.646092   \n",
       "\n",
       "   IsActiveMember  EstimatedSalary  Exited  Geography_Germany  \\\n",
       "0        0.970243         0.021886       1                  0   \n",
       "1        0.970243         0.216534       0                  0   \n",
       "2       -1.030670         0.240687       1                  0   \n",
       "3       -1.030670        -0.108918       0                  0   \n",
       "4        0.970243        -0.365276       0                  0   \n",
       "\n",
       "   Geography_Spain  Gender_Male  \n",
       "0                0            0  \n",
       "1                1            0  \n",
       "2                0            0  \n",
       "3                0            0  \n",
       "4                1            0  "
      ]
     },
     "metadata": {},
     "output_type": "display_data"
    }
   ],
   "source": [
    "# Dropping irrelevant columns\n",
    "data = data.drop(columns=['RowNumber', 'CustomerId', 'Surname'])\n",
    "\n",
    "# Handling missing values in tenure by filling with the median \n",
    "data['Tenure'].fillna(data['Tenure'].median(), inplace=True)\n",
    "\n",
    "# Encoding categorical variables using One-Hot Encoding\n",
    "data = pd.get_dummies(data, columns=['Geography', 'Gender'], drop_first=True)\n",
    "\n",
    "# Display first few rows of the processed dataset\n",
    "print(\"Processed data preview:\")\n",
    "display(data.head())\n",
    "\n",
    "# Define numerical columns to be standardized\n",
    "numerical_features = ['CreditScore', 'Age', 'Tenure', 'Balance', \n",
    "                      'NumOfProducts', 'HasCrCard', 'IsActiveMember', 'EstimatedSalary']\n",
    "\n",
    "# Initialize StandardScaler\n",
    "scaler = StandardScaler()\n",
    "\n",
    "# Fit and transform numerical features\n",
    "data[numerical_features] = scaler.fit_transform(data[numerical_features])\n",
    "\n",
    "# Display first few rows of the standardized data\n",
    "print(\"\\nStandardized data preview:\")\n",
    "display(data.head())"
   ]
  },
  {
   "cell_type": "markdown",
   "metadata": {},
   "source": [
    "### Examining the Balance of Classes and Initial Model Training\n",
    "#### To assess whether there is an imbalance in the classes, the distribution of the target variable 'Excited' is checked. "
   ]
  },
  {
   "cell_type": "code",
   "execution_count": 3,
   "metadata": {},
   "outputs": [
    {
     "name": "stdout",
     "output_type": "stream",
     "text": [
      "Class distribution:\n",
      " 0    0.7963\n",
      "1    0.2037\n",
      "Name: Exited, dtype: float64\n"
     ]
    }
   ],
   "source": [
    "# Check distribution of Exited\n",
    "class_distribution = data['Exited'].value_counts(normalize=True)\n",
    "print(\"Class distribution:\\n\", class_distribution)"
   ]
  },
  {
   "cell_type": "markdown",
   "metadata": {},
   "source": [
    "**The class distribution indicates a significant imbalance in the dataset:**\n",
    "\n",
    "- 79.63% of the customers have not exited (Exited = 0)\n",
    "- 20.37% of the customers have exited (Exited = 1)"
   ]
  },
  {
   "cell_type": "markdown",
   "metadata": {},
   "source": [
    "#### To establish a baseline, a Logistic Regression model is trained without considering the class imbalance."
   ]
  },
  {
   "cell_type": "code",
   "execution_count": 4,
   "metadata": {},
   "outputs": [
    {
     "name": "stdout",
     "output_type": "stream",
     "text": [
      "Initial Model F1 Score: 0.32\n",
      "Initial Model AUC-ROC: 0.79\n"
     ]
    }
   ],
   "source": [
    "# Splitting data into features and target\n",
    "X = data.drop(columns='Exited')\n",
    "y = data['Exited']\n",
    "\n",
    "# Split the data into training+validation and test sets \n",
    "X_temp, X_test, y_temp, y_test = train_test_split(X, y, test_size=0.20, random_state=12345, stratify=y)\n",
    "\n",
    "# split the remaining 80% into training and validation sets\n",
    "X_train, X_valid, y_train, y_valid = train_test_split(X_temp, y_temp, test_size=0.25, random_state=12345, stratify=y_temp)\n",
    "\n",
    "# Train a Logistic Regression model\n",
    "model = LogisticRegression(random_state=12345)\n",
    "model.fit(X_train, y_train)\n",
    "\n",
    "# Make predictions on the validation set\n",
    "y_pred = model.predict(X_valid)\n",
    "\n",
    "# Calculate F1 score and AUC-ROC\n",
    "f1 = f1_score(y_valid, y_pred)\n",
    "roc_auc = roc_auc_score(y_valid, model.predict_proba(X_valid)[:, 1])\n",
    "\n",
    "print(f\"Initial Model F1 Score: {f1:.2f}\")\n",
    "print(f\"Initial Model AUC-ROC: {roc_auc:.2f}\")"
   ]
  },
  {
   "cell_type": "markdown",
   "metadata": {},
   "source": [
    "#### Observations\n",
    "\n",
    "**Class Imbalance Impact:**\n",
    "\n",
    "The significant class imbalance has likely led the model to predict the majority class more frequently. This results in a high number of false negatives, where the model fails to identify customers who are actually at risk of churning.\n",
    "\n",
    "**Need for Imbalance Handling:**\n",
    "\n",
    "The initial model's F1 score and AUC-ROC are relatively low, indicating that the model struggles to balance precision and recall due to class imbalance."
   ]
  },
  {
   "cell_type": "markdown",
   "metadata": {},
   "source": [
    "### Improving the Quality of the Model\n",
    "#### Approaches to Handling Class Imbalance\n",
    "\n",
    "- Upsampling the Minority Class: Increasing the minority class samples to match the majority.\n",
    "- Class Weight Adjustment: Adjusting class weights to give more importance to the minority class.\n",
    "- Threshold Adjustment: Adjusting the decision threshold based on predicted probabilities."
   ]
  },
  {
   "cell_type": "markdown",
   "metadata": {},
   "source": [
    "#### Upsampling the Minority Class"
   ]
  },
  {
   "cell_type": "code",
   "execution_count": 5,
   "metadata": {},
   "outputs": [],
   "source": [
    "# Combine the training features and labels into one DataFrame\n",
    "train_data = pd.concat([X_train, y_train], axis=1)\n",
    "\n",
    "# Separate the majority and minority classes\n",
    "majority = train_data[train_data['Exited'] == 0]\n",
    "minority = train_data[train_data['Exited'] == 1]\n",
    "\n",
    "# Upsample the minority class\n",
    "minority_upsampled = resample(minority,\n",
    "                              replace=True,  \n",
    "                              n_samples=len(majority),  \n",
    "                              random_state=12345)  \n",
    "\n",
    "# Combine the majority class with the upsampled minority class\n",
    "upsampled = pd.concat([majority, minority_upsampled])\n",
    "\n",
    "# Split the data into features and target\n",
    "X_train_upsampled = upsampled.drop('Exited', axis=1)\n",
    "y_train_upsampled = upsampled['Exited']"
   ]
  },
  {
   "cell_type": "markdown",
   "metadata": {},
   "source": [
    "#### Class Weight Adjustment"
   ]
  },
  {
   "cell_type": "code",
   "execution_count": 6,
   "metadata": {},
   "outputs": [
    {
     "name": "stdout",
     "output_type": "stream",
     "text": [
      "Class Weight Random Forest - F1: 0.55, AUC-ROC: 0.85\n"
     ]
    }
   ],
   "source": [
    "# Train a Random Forest model with class weight adjustments\n",
    "rf_class_weight = RandomForestClassifier(random_state=12345, class_weight='balanced')\n",
    "rf_class_weight.fit(X_train, y_train)\n",
    "\n",
    "# Predictions and evaluation\n",
    "y_pred_class_weight = rf_class_weight.predict(X_valid)\n",
    "f1_class_weight = f1_score(y_valid, y_pred_class_weight)\n",
    "roc_auc_class_weight = roc_auc_score(y_valid, rf_class_weight.predict_proba(X_valid)[:, 1])\n",
    "\n",
    "print(f\"Class Weight Random Forest - F1: {f1_class_weight:.2f}, AUC-ROC: {roc_auc_class_weight:.2f}\")"
   ]
  },
  {
   "cell_type": "markdown",
   "metadata": {},
   "source": [
    "#### Threshold Adjustment"
   ]
  },
  {
   "cell_type": "code",
   "execution_count": 7,
   "metadata": {},
   "outputs": [
    {
     "name": "stdout",
     "output_type": "stream",
     "text": [
      "Threshold Adjusted Random Forest - F1: 0.63, AUC-ROC: 0.85\n"
     ]
    }
   ],
   "source": [
    "# Predict probabilities\n",
    "probs = rf_class_weight.predict_proba(X_valid)[:, 1]\n",
    "\n",
    "# Set a custom threshold\n",
    "threshold = 0.3\n",
    "y_pred_threshold = (probs >= threshold).astype(int)\n",
    "\n",
    "# Evaluate with the new threshold\n",
    "f1_threshold = f1_score(y_valid, y_pred_threshold)\n",
    "roc_auc_threshold = roc_auc_score(y_valid, probs)\n",
    "\n",
    "print(f\"Threshold Adjusted Random Forest - F1: {f1_threshold:.2f}, AUC-ROC: {roc_auc_threshold:.2f}\")"
   ]
  },
  {
   "cell_type": "markdown",
   "metadata": {},
   "source": [
    "#### Findings After Handling Imbalances"
   ]
  },
  {
   "cell_type": "markdown",
   "metadata": {},
   "source": [
    "1. **Upsampling the Minority Class**\n",
    "- Improved the model's ability to detect churners by providing more training instances of the minority class.\n",
    "- May lead to overfitting, as the model could become too sensitive to the minority class. \n",
    "\n",
    "2. **Class Weight Adjustment**\n",
    "\n",
    "- **F1: 0.55**\n",
    "- **AUC-ROC: 0.85**\n",
    "\n",
    "- Simple and effective, significantly improved recall for the minority class while maintaining overall accuracy.\n",
    "- The F1 score improved but was slightly lower than the threshold-adjusted approach, indicating that while precision and recall improved, there was room for balancing them better.\n",
    "\n",
    "3. **Threshold Adjustment**\n",
    "\n",
    "- **F1: 0.63**\n",
    "- **AUC-ROC: 0.85**\n",
    "\n",
    "- This method provided the highest F1 score among all approaches, effectively balancing precision and recall. \n",
    "- The Threshold Adjusted Random Forest model was selected as the best performing model."
   ]
  },
  {
   "cell_type": "markdown",
   "metadata": {},
   "source": [
    "### Final Testing\n",
    "- Retrain the chosen Random Forest model on the combined training and validation sets to utilize all available data, then evaluate its performance on the test set. \n",
    "- Analyze feature importance in the Random Forest model to understand which features are most influential in predicting churn.\n",
    "- Evaluate on the test set separate from the original dataset before any training to provide an unbiased evaluation of the model's performance."
   ]
  },
  {
   "cell_type": "markdown",
   "metadata": {},
   "source": [
    "#### Final Model Selection and Testing"
   ]
  },
  {
   "cell_type": "code",
   "execution_count": 8,
   "metadata": {},
   "outputs": [
    {
     "name": "stdout",
     "output_type": "stream",
     "text": [
      "Final Model Test F1 Score: 0.62\n",
      "Final Model Test AUC-ROC: 0.86\n"
     ]
    }
   ],
   "source": [
    "# Retrain the best model on the combined training & validation data\n",
    "final_model = RandomForestClassifier(random_state=12345, class_weight='balanced')\n",
    "final_model.fit(X_temp, y_temp)\n",
    "\n",
    "# Get probabilities for threshold adjustment\n",
    "test_probs = final_model.predict_proba(X_test)[:, 1]\n",
    "\n",
    "# Apply custom threshold of 0.3\n",
    "final_test_pred = (test_probs >= 0.3).astype(int)\n",
    "\n",
    "# Evaluate the final model on the test set\n",
    "final_f1_test = f1_score(y_test, final_test_pred)\n",
    "final_roc_auc_test = roc_auc_score(y_test, test_probs)\n",
    "\n",
    "print(f\"Final Model Test F1 Score: {final_f1_test:.2f}\")\n",
    "print(f\"Final Model Test AUC-ROC: {final_roc_auc_test:.2f}\")"
   ]
  },
  {
   "cell_type": "markdown",
   "metadata": {},
   "source": [
    "#### Findings:\n",
    "**Final Model Test F1 Score: 0.62** \n",
    "\n",
    "The F1 score of 0.62 exceeds the project's target of 0.59, indicating that the model has a good balance between precision and recall. This metric is particularly important in scenarios with class imbalance, as it considers both false positives and false negatives.\n",
    "\n",
    "**Final Model Test AUC-ROC: 0.86** \n",
    "\n",
    "The AUC-ROC score of 0.86 suggests that the model has a strong ability to discriminate between churners and non-churners. This metric provides an overall measure of the model's performance across all classification thresholds."
   ]
  },
  {
   "cell_type": "markdown",
   "metadata": {},
   "source": [
    "### Conclusion\n",
    "- An initial examination revealed a significant class imbalance, with far more non-churning customers than churners. \n",
    "- Comprehensive preprocessing ensured that all data types were correctly handled, irrelevant features were removed, and numerical features were standardized. \n",
    "- Multiple approaches, including upsampling the minority class, adjusting class weights, and applying threshold adjustments, were explored. \n",
    "- The Threshold Adjusted Random Forest model, employing class weight adjustments and a custom threshold, emerged as the best performer. It achieved an F1 score of 0.62 and an AUC-ROC of 0.86 on the test set, surpassing the project's target and demonstrating strong discriminative power. \n",
    "- The final model was thoroughly tested on a separate test set to confirm its robustness and generalizability. \n",
    "\n",
    "The successful deployment of this model provides Beta Bank with a powerful tool to predict customer churn, enabling proactive and targeted retention strategies. This can lead to significant cost savings and improved customer satisfaction by retaining valuable customers."
   ]
  }
 ],
 "metadata": {
  "ExecuteTimeLog": [
   {
    "duration": 710,
    "start_time": "2024-07-25T09:10:24.160Z"
   },
   {
    "duration": 342,
    "start_time": "2024-07-26T16:19:36.975Z"
   },
   {
    "duration": 576,
    "start_time": "2024-07-26T16:19:45.345Z"
   },
   {
    "duration": 812,
    "start_time": "2024-07-26T16:19:46.801Z"
   },
   {
    "duration": 1624,
    "start_time": "2024-07-26T16:19:55.295Z"
   },
   {
    "duration": 67,
    "start_time": "2024-07-26T16:20:12.395Z"
   },
   {
    "duration": 74,
    "start_time": "2024-07-26T16:20:13.562Z"
   },
   {
    "duration": 111,
    "start_time": "2024-07-26T16:23:04.658Z"
   },
   {
    "duration": 75,
    "start_time": "2024-07-26T16:23:05.983Z"
   },
   {
    "duration": 16,
    "start_time": "2024-07-26T16:24:43.914Z"
   },
   {
    "duration": 69,
    "start_time": "2024-07-26T16:29:50.237Z"
   },
   {
    "duration": 62,
    "start_time": "2024-07-26T16:48:01.782Z"
   },
   {
    "duration": 69,
    "start_time": "2024-07-26T16:48:03.005Z"
   },
   {
    "duration": 7,
    "start_time": "2024-07-26T16:48:04.057Z"
   },
   {
    "duration": 117,
    "start_time": "2024-07-26T16:48:05.489Z"
   },
   {
    "duration": 13,
    "start_time": "2024-07-26T16:48:46.621Z"
   },
   {
    "duration": 94,
    "start_time": "2024-07-26T16:49:03.320Z"
   },
   {
    "duration": 81,
    "start_time": "2024-07-26T16:49:04.174Z"
   },
   {
    "duration": 7,
    "start_time": "2024-07-26T16:49:04.873Z"
   },
   {
    "duration": 87,
    "start_time": "2024-07-26T16:49:05.924Z"
   },
   {
    "duration": 15,
    "start_time": "2024-07-26T16:49:07.260Z"
   },
   {
    "duration": 1327,
    "start_time": "2024-07-26T16:49:24.335Z"
   },
   {
    "duration": 203,
    "start_time": "2024-07-26T16:50:37.024Z"
   },
   {
    "duration": 1371,
    "start_time": "2024-07-26T16:50:45.981Z"
   },
   {
    "duration": 97,
    "start_time": "2024-07-26T16:50:47.355Z"
   },
   {
    "duration": 8,
    "start_time": "2024-07-26T16:50:47.455Z"
   },
   {
    "duration": 140,
    "start_time": "2024-07-26T16:50:47.468Z"
   },
   {
    "duration": 91,
    "start_time": "2024-07-26T16:50:47.611Z"
   },
   {
    "duration": 1454,
    "start_time": "2024-07-26T16:50:47.705Z"
   },
   {
    "duration": 180,
    "start_time": "2024-07-26T16:50:49.162Z"
   },
   {
    "duration": 1552,
    "start_time": "2024-07-26T17:06:52.186Z"
   },
   {
    "duration": 409,
    "start_time": "2024-07-26T17:07:48.550Z"
   },
   {
    "duration": 1320,
    "start_time": "2024-07-26T17:08:45.623Z"
   },
   {
    "duration": 101,
    "start_time": "2024-07-26T17:08:46.946Z"
   },
   {
    "duration": 9,
    "start_time": "2024-07-26T17:08:47.050Z"
   },
   {
    "duration": 143,
    "start_time": "2024-07-26T17:08:47.064Z"
   },
   {
    "duration": 92,
    "start_time": "2024-07-26T17:08:47.210Z"
   },
   {
    "duration": 1463,
    "start_time": "2024-07-26T17:08:47.305Z"
   },
   {
    "duration": 168,
    "start_time": "2024-07-26T17:08:48.771Z"
   },
   {
    "duration": 1559,
    "start_time": "2024-07-26T17:08:48.942Z"
   },
   {
    "duration": 417,
    "start_time": "2024-07-26T17:08:50.505Z"
   },
   {
    "duration": 1293,
    "start_time": "2024-07-26T17:14:32.748Z"
   },
   {
    "duration": 97,
    "start_time": "2024-07-26T17:14:34.045Z"
   },
   {
    "duration": 10,
    "start_time": "2024-07-26T17:14:34.145Z"
   },
   {
    "duration": 144,
    "start_time": "2024-07-26T17:14:34.158Z"
   },
   {
    "duration": 15,
    "start_time": "2024-07-26T17:14:34.307Z"
   },
   {
    "duration": 1214,
    "start_time": "2024-07-26T17:14:34.325Z"
   },
   {
    "duration": 171,
    "start_time": "2024-07-26T17:14:35.542Z"
   },
   {
    "duration": 1267,
    "start_time": "2024-07-26T17:14:35.717Z"
   },
   {
    "duration": 134,
    "start_time": "2024-07-26T17:14:36.988Z"
   },
   {
    "duration": 1340,
    "start_time": "2024-07-26T17:28:15.815Z"
   },
   {
    "duration": 100,
    "start_time": "2024-07-26T17:28:17.159Z"
   },
   {
    "duration": 10,
    "start_time": "2024-07-26T17:28:17.262Z"
   },
   {
    "duration": 109,
    "start_time": "2024-07-26T17:28:17.301Z"
   },
   {
    "duration": 89,
    "start_time": "2024-07-26T17:28:17.413Z"
   },
   {
    "duration": 1228,
    "start_time": "2024-07-26T17:28:17.505Z"
   },
   {
    "duration": 182,
    "start_time": "2024-07-26T17:28:18.736Z"
   },
   {
    "duration": 1232,
    "start_time": "2024-07-26T17:28:18.921Z"
   },
   {
    "duration": 129,
    "start_time": "2024-07-26T17:28:20.156Z"
   },
   {
    "duration": 445619,
    "start_time": "2024-07-26T17:36:06.129Z"
   },
   {
    "duration": 3518,
    "start_time": "2024-07-26T17:52:13.631Z"
   },
   {
    "duration": 16,
    "start_time": "2024-07-26T17:52:18.950Z"
   },
   {
    "duration": 3380,
    "start_time": "2024-07-26T17:52:19.381Z"
   },
   {
    "duration": 240,
    "start_time": "2024-07-26T17:52:22.864Z"
   },
   {
    "duration": 1228,
    "start_time": "2024-07-26T17:52:57.744Z"
   },
   {
    "duration": 125,
    "start_time": "2024-07-26T17:52:58.976Z"
   },
   {
    "duration": 488,
    "start_time": "2024-07-26T18:08:58.788Z"
   },
   {
    "duration": 1077,
    "start_time": "2024-07-26T18:09:13.388Z"
   },
   {
    "duration": 14,
    "start_time": "2024-07-26T18:16:13.134Z"
   },
   {
    "duration": 15,
    "start_time": "2024-07-26T18:16:22.158Z"
   },
   {
    "duration": 1016,
    "start_time": "2024-07-26T18:16:41.016Z"
   },
   {
    "duration": 60,
    "start_time": "2024-07-26T18:18:12.774Z"
   },
   {
    "duration": 4037,
    "start_time": "2024-07-26T18:33:53.991Z"
   },
   {
    "duration": 1338,
    "start_time": "2024-07-26T18:34:39.125Z"
   },
   {
    "duration": 93,
    "start_time": "2024-07-26T18:34:40.468Z"
   },
   {
    "duration": 11,
    "start_time": "2024-07-26T18:34:40.564Z"
   },
   {
    "duration": 103,
    "start_time": "2024-07-26T18:34:40.602Z"
   },
   {
    "duration": 93,
    "start_time": "2024-07-26T18:34:40.709Z"
   },
   {
    "duration": 1096,
    "start_time": "2024-07-26T18:34:40.805Z"
   },
   {
    "duration": 58,
    "start_time": "2024-07-26T18:34:41.904Z"
   },
   {
    "duration": 4037,
    "start_time": "2024-07-26T18:34:41.965Z"
   },
   {
    "duration": 1255,
    "start_time": "2024-07-26T18:35:18.482Z"
   },
   {
    "duration": 1335,
    "start_time": "2024-07-26T18:52:12.008Z"
   },
   {
    "duration": 92,
    "start_time": "2024-07-26T18:52:13.347Z"
   },
   {
    "duration": 9,
    "start_time": "2024-07-26T18:52:13.443Z"
   },
   {
    "duration": 148,
    "start_time": "2024-07-26T18:52:13.456Z"
   },
   {
    "duration": 17,
    "start_time": "2024-07-26T18:52:13.607Z"
   },
   {
    "duration": 1038,
    "start_time": "2024-07-26T18:52:13.703Z"
   },
   {
    "duration": 75,
    "start_time": "2024-07-26T18:52:14.744Z"
   },
   {
    "duration": 1274,
    "start_time": "2024-07-26T18:52:14.823Z"
   },
   {
    "duration": 15,
    "start_time": "2024-07-26T18:59:02.547Z"
   },
   {
    "duration": 787,
    "start_time": "2025-02-28T08:05:48.163Z"
   },
   {
    "duration": 43,
    "start_time": "2025-02-28T08:05:48.952Z"
   },
   {
    "duration": 5,
    "start_time": "2025-02-28T08:05:48.997Z"
   },
   {
    "duration": 73,
    "start_time": "2025-02-28T08:05:49.004Z"
   },
   {
    "duration": 10,
    "start_time": "2025-02-28T08:05:49.079Z"
   },
   {
    "duration": 702,
    "start_time": "2025-02-28T08:05:49.090Z"
   },
   {
    "duration": 36,
    "start_time": "2025-02-28T08:05:49.795Z"
   },
   {
    "duration": 749,
    "start_time": "2025-02-28T08:05:49.832Z"
   }
  ],
  "kernelspec": {
   "display_name": "Python 3 (ipykernel)",
   "language": "python",
   "name": "python3"
  },
  "language_info": {
   "codemirror_mode": {
    "name": "ipython",
    "version": 3
   },
   "file_extension": ".py",
   "mimetype": "text/x-python",
   "name": "python",
   "nbconvert_exporter": "python",
   "pygments_lexer": "ipython3",
   "version": "3.9.19"
  },
  "toc": {
   "base_numbering": 1,
   "nav_menu": {},
   "number_sections": true,
   "sideBar": true,
   "skip_h1_title": true,
   "title_cell": "Table of Contents",
   "title_sidebar": "Contents",
   "toc_cell": false,
   "toc_position": {},
   "toc_section_display": true,
   "toc_window_display": false
  }
 },
 "nbformat": 4,
 "nbformat_minor": 2
}
